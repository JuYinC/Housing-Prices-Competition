{
 "cells": [
  {
   "cell_type": "markdown",
   "id": "baddc044",
   "metadata": {
    "papermill": {
     "duration": 0.010226,
     "end_time": "2023-04-26T08:23:08.028862",
     "exception": false,
     "start_time": "2023-04-26T08:23:08.018636",
     "status": "completed"
    },
    "tags": []
   },
   "source": [
    "**This notebook is an exercise in the [Intermediate Machine Learning](https://www.kaggle.com/learn/intermediate-machine-learning) course.  You can reference the tutorial at [this link](https://www.kaggle.com/alexisbcook/missing-values).**\n",
    "\n",
    "---\n"
   ]
  },
  {
   "cell_type": "markdown",
   "id": "4139c432",
   "metadata": {
    "papermill": {
     "duration": 0.008325,
     "end_time": "2023-04-26T08:23:08.046058",
     "exception": false,
     "start_time": "2023-04-26T08:23:08.037733",
     "status": "completed"
    },
    "tags": []
   },
   "source": [
    "Now it's your turn to test your new knowledge of **missing values** handling. You'll probably find it makes a big difference.\n",
    "\n",
    "# Setup\n",
    "\n",
    "The questions will give you feedback on your work. Run the following cell to set up the feedback system."
   ]
  },
  {
   "cell_type": "code",
   "execution_count": 1,
   "id": "fc116957",
   "metadata": {
    "execution": {
     "iopub.execute_input": "2023-04-26T08:23:08.065313Z",
     "iopub.status.busy": "2023-04-26T08:23:08.064855Z",
     "iopub.status.idle": "2023-04-26T08:23:08.120411Z",
     "shell.execute_reply": "2023-04-26T08:23:08.119006Z"
    },
    "papermill": {
     "duration": 0.068555,
     "end_time": "2023-04-26T08:23:08.123321",
     "exception": false,
     "start_time": "2023-04-26T08:23:08.054766",
     "status": "completed"
    },
    "tags": []
   },
   "outputs": [
    {
     "name": "stdout",
     "output_type": "stream",
     "text": [
      "Setup Complete\n"
     ]
    }
   ],
   "source": [
    "# Set up code checking\n",
    "import os\n",
    "if not os.path.exists(\"../input/train.csv\"):\n",
    "    os.symlink(\"../input/home-data-for-ml-course/train.csv\", \"../input/train.csv\")  \n",
    "    os.symlink(\"../input/home-data-for-ml-course/test.csv\", \"../input/test.csv\") \n",
    "from learntools.core import binder\n",
    "binder.bind(globals())\n",
    "from learntools.ml_intermediate.ex2 import *\n",
    "print(\"Setup Complete\")"
   ]
  },
  {
   "cell_type": "markdown",
   "id": "c2210fe4",
   "metadata": {
    "papermill": {
     "duration": 0.008421,
     "end_time": "2023-04-26T08:23:08.140871",
     "exception": false,
     "start_time": "2023-04-26T08:23:08.132450",
     "status": "completed"
    },
    "tags": []
   },
   "source": [
    "In this exercise, you will work with data from the [Housing Prices Competition for Kaggle Learn Users](https://www.kaggle.com/c/home-data-for-ml-course). \n",
    "\n",
    "![Ames Housing dataset image](https://storage.googleapis.com/kaggle-media/learn/images/lTJVG4e.png)\n",
    "\n",
    "Run the next code cell without changes to load the training and validation sets in `X_train`, `X_valid`, `y_train`, and `y_valid`.  The test set is loaded in `X_test`."
   ]
  },
  {
   "cell_type": "code",
   "execution_count": 2,
   "id": "67f70734",
   "metadata": {
    "execution": {
     "iopub.execute_input": "2023-04-26T08:23:08.160602Z",
     "iopub.status.busy": "2023-04-26T08:23:08.160190Z",
     "iopub.status.idle": "2023-04-26T08:23:09.429118Z",
     "shell.execute_reply": "2023-04-26T08:23:09.427922Z"
    },
    "papermill": {
     "duration": 1.282258,
     "end_time": "2023-04-26T08:23:09.431925",
     "exception": false,
     "start_time": "2023-04-26T08:23:08.149667",
     "status": "completed"
    },
    "tags": []
   },
   "outputs": [],
   "source": [
    "import pandas as pd\n",
    "from sklearn.model_selection import train_test_split\n",
    "\n",
    "# Read the data\n",
    "X_full = pd.read_csv('../input/train.csv', index_col='Id')\n",
    "X_test_full = pd.read_csv('../input/test.csv', index_col='Id')\n",
    "\n",
    "# Remove rows with missing target, separate target from predictors\n",
    "X_full.dropna(axis=0, subset=['SalePrice'], inplace=True)\n",
    "y = X_full.SalePrice\n",
    "X_full.drop(['SalePrice'], axis=1, inplace=True)\n",
    "\n",
    "# To keep things simple, we'll use only numerical predictors\n",
    "X = X_full.select_dtypes(exclude=['object'])\n",
    "X_test = X_test_full.select_dtypes(exclude=['object'])\n",
    "\n",
    "# Break off validation set from training data\n",
    "X_train, X_valid, y_train, y_valid = train_test_split(X, y, train_size=0.8, test_size=0.2,\n",
    "                                                      random_state=0)"
   ]
  },
  {
   "cell_type": "markdown",
   "id": "af73cc22",
   "metadata": {
    "papermill": {
     "duration": 0.010014,
     "end_time": "2023-04-26T08:23:09.453333",
     "exception": false,
     "start_time": "2023-04-26T08:23:09.443319",
     "status": "completed"
    },
    "tags": []
   },
   "source": [
    "Use the next code cell to print the first five rows of the data."
   ]
  },
  {
   "cell_type": "code",
   "execution_count": 3,
   "id": "d68caafb",
   "metadata": {
    "execution": {
     "iopub.execute_input": "2023-04-26T08:23:09.474821Z",
     "iopub.status.busy": "2023-04-26T08:23:09.474344Z",
     "iopub.status.idle": "2023-04-26T08:23:09.513119Z",
     "shell.execute_reply": "2023-04-26T08:23:09.511107Z"
    },
    "papermill": {
     "duration": 0.052678,
     "end_time": "2023-04-26T08:23:09.515891",
     "exception": false,
     "start_time": "2023-04-26T08:23:09.463213",
     "status": "completed"
    },
    "tags": []
   },
   "outputs": [
    {
     "data": {
      "text/html": [
       "<div>\n",
       "<style scoped>\n",
       "    .dataframe tbody tr th:only-of-type {\n",
       "        vertical-align: middle;\n",
       "    }\n",
       "\n",
       "    .dataframe tbody tr th {\n",
       "        vertical-align: top;\n",
       "    }\n",
       "\n",
       "    .dataframe thead th {\n",
       "        text-align: right;\n",
       "    }\n",
       "</style>\n",
       "<table border=\"1\" class=\"dataframe\">\n",
       "  <thead>\n",
       "    <tr style=\"text-align: right;\">\n",
       "      <th></th>\n",
       "      <th>MSSubClass</th>\n",
       "      <th>LotFrontage</th>\n",
       "      <th>LotArea</th>\n",
       "      <th>OverallQual</th>\n",
       "      <th>OverallCond</th>\n",
       "      <th>YearBuilt</th>\n",
       "      <th>YearRemodAdd</th>\n",
       "      <th>MasVnrArea</th>\n",
       "      <th>BsmtFinSF1</th>\n",
       "      <th>BsmtFinSF2</th>\n",
       "      <th>...</th>\n",
       "      <th>GarageArea</th>\n",
       "      <th>WoodDeckSF</th>\n",
       "      <th>OpenPorchSF</th>\n",
       "      <th>EnclosedPorch</th>\n",
       "      <th>3SsnPorch</th>\n",
       "      <th>ScreenPorch</th>\n",
       "      <th>PoolArea</th>\n",
       "      <th>MiscVal</th>\n",
       "      <th>MoSold</th>\n",
       "      <th>YrSold</th>\n",
       "    </tr>\n",
       "    <tr>\n",
       "      <th>Id</th>\n",
       "      <th></th>\n",
       "      <th></th>\n",
       "      <th></th>\n",
       "      <th></th>\n",
       "      <th></th>\n",
       "      <th></th>\n",
       "      <th></th>\n",
       "      <th></th>\n",
       "      <th></th>\n",
       "      <th></th>\n",
       "      <th></th>\n",
       "      <th></th>\n",
       "      <th></th>\n",
       "      <th></th>\n",
       "      <th></th>\n",
       "      <th></th>\n",
       "      <th></th>\n",
       "      <th></th>\n",
       "      <th></th>\n",
       "      <th></th>\n",
       "      <th></th>\n",
       "    </tr>\n",
       "  </thead>\n",
       "  <tbody>\n",
       "    <tr>\n",
       "      <th>619</th>\n",
       "      <td>20</td>\n",
       "      <td>90.0</td>\n",
       "      <td>11694</td>\n",
       "      <td>9</td>\n",
       "      <td>5</td>\n",
       "      <td>2007</td>\n",
       "      <td>2007</td>\n",
       "      <td>452.0</td>\n",
       "      <td>48</td>\n",
       "      <td>0</td>\n",
       "      <td>...</td>\n",
       "      <td>774</td>\n",
       "      <td>0</td>\n",
       "      <td>108</td>\n",
       "      <td>0</td>\n",
       "      <td>0</td>\n",
       "      <td>260</td>\n",
       "      <td>0</td>\n",
       "      <td>0</td>\n",
       "      <td>7</td>\n",
       "      <td>2007</td>\n",
       "    </tr>\n",
       "    <tr>\n",
       "      <th>871</th>\n",
       "      <td>20</td>\n",
       "      <td>60.0</td>\n",
       "      <td>6600</td>\n",
       "      <td>5</td>\n",
       "      <td>5</td>\n",
       "      <td>1962</td>\n",
       "      <td>1962</td>\n",
       "      <td>0.0</td>\n",
       "      <td>0</td>\n",
       "      <td>0</td>\n",
       "      <td>...</td>\n",
       "      <td>308</td>\n",
       "      <td>0</td>\n",
       "      <td>0</td>\n",
       "      <td>0</td>\n",
       "      <td>0</td>\n",
       "      <td>0</td>\n",
       "      <td>0</td>\n",
       "      <td>0</td>\n",
       "      <td>8</td>\n",
       "      <td>2009</td>\n",
       "    </tr>\n",
       "    <tr>\n",
       "      <th>93</th>\n",
       "      <td>30</td>\n",
       "      <td>80.0</td>\n",
       "      <td>13360</td>\n",
       "      <td>5</td>\n",
       "      <td>7</td>\n",
       "      <td>1921</td>\n",
       "      <td>2006</td>\n",
       "      <td>0.0</td>\n",
       "      <td>713</td>\n",
       "      <td>0</td>\n",
       "      <td>...</td>\n",
       "      <td>432</td>\n",
       "      <td>0</td>\n",
       "      <td>0</td>\n",
       "      <td>44</td>\n",
       "      <td>0</td>\n",
       "      <td>0</td>\n",
       "      <td>0</td>\n",
       "      <td>0</td>\n",
       "      <td>8</td>\n",
       "      <td>2009</td>\n",
       "    </tr>\n",
       "    <tr>\n",
       "      <th>818</th>\n",
       "      <td>20</td>\n",
       "      <td>NaN</td>\n",
       "      <td>13265</td>\n",
       "      <td>8</td>\n",
       "      <td>5</td>\n",
       "      <td>2002</td>\n",
       "      <td>2002</td>\n",
       "      <td>148.0</td>\n",
       "      <td>1218</td>\n",
       "      <td>0</td>\n",
       "      <td>...</td>\n",
       "      <td>857</td>\n",
       "      <td>150</td>\n",
       "      <td>59</td>\n",
       "      <td>0</td>\n",
       "      <td>0</td>\n",
       "      <td>0</td>\n",
       "      <td>0</td>\n",
       "      <td>0</td>\n",
       "      <td>7</td>\n",
       "      <td>2008</td>\n",
       "    </tr>\n",
       "    <tr>\n",
       "      <th>303</th>\n",
       "      <td>20</td>\n",
       "      <td>118.0</td>\n",
       "      <td>13704</td>\n",
       "      <td>7</td>\n",
       "      <td>5</td>\n",
       "      <td>2001</td>\n",
       "      <td>2002</td>\n",
       "      <td>150.0</td>\n",
       "      <td>0</td>\n",
       "      <td>0</td>\n",
       "      <td>...</td>\n",
       "      <td>843</td>\n",
       "      <td>468</td>\n",
       "      <td>81</td>\n",
       "      <td>0</td>\n",
       "      <td>0</td>\n",
       "      <td>0</td>\n",
       "      <td>0</td>\n",
       "      <td>0</td>\n",
       "      <td>1</td>\n",
       "      <td>2006</td>\n",
       "    </tr>\n",
       "  </tbody>\n",
       "</table>\n",
       "<p>5 rows × 36 columns</p>\n",
       "</div>"
      ],
      "text/plain": [
       "     MSSubClass  LotFrontage  LotArea  OverallQual  OverallCond  YearBuilt  \\\n",
       "Id                                                                           \n",
       "619          20         90.0    11694            9            5       2007   \n",
       "871          20         60.0     6600            5            5       1962   \n",
       "93           30         80.0    13360            5            7       1921   \n",
       "818          20          NaN    13265            8            5       2002   \n",
       "303          20        118.0    13704            7            5       2001   \n",
       "\n",
       "     YearRemodAdd  MasVnrArea  BsmtFinSF1  BsmtFinSF2  ...  GarageArea  \\\n",
       "Id                                                     ...               \n",
       "619          2007       452.0          48           0  ...         774   \n",
       "871          1962         0.0           0           0  ...         308   \n",
       "93           2006         0.0         713           0  ...         432   \n",
       "818          2002       148.0        1218           0  ...         857   \n",
       "303          2002       150.0           0           0  ...         843   \n",
       "\n",
       "     WoodDeckSF  OpenPorchSF  EnclosedPorch  3SsnPorch  ScreenPorch  PoolArea  \\\n",
       "Id                                                                              \n",
       "619           0          108              0          0          260         0   \n",
       "871           0            0              0          0            0         0   \n",
       "93            0            0             44          0            0         0   \n",
       "818         150           59              0          0            0         0   \n",
       "303         468           81              0          0            0         0   \n",
       "\n",
       "     MiscVal  MoSold  YrSold  \n",
       "Id                            \n",
       "619        0       7    2007  \n",
       "871        0       8    2009  \n",
       "93         0       8    2009  \n",
       "818        0       7    2008  \n",
       "303        0       1    2006  \n",
       "\n",
       "[5 rows x 36 columns]"
      ]
     },
     "execution_count": 3,
     "metadata": {},
     "output_type": "execute_result"
    }
   ],
   "source": [
    "X_train.head()"
   ]
  },
  {
   "cell_type": "markdown",
   "id": "b0fb9539",
   "metadata": {
    "papermill": {
     "duration": 0.008831,
     "end_time": "2023-04-26T08:23:09.535113",
     "exception": false,
     "start_time": "2023-04-26T08:23:09.526282",
     "status": "completed"
    },
    "tags": []
   },
   "source": [
    "You can already see a few missing values in the first several rows.  In the next step, you'll obtain a more comprehensive understanding of the missing values in the dataset.\n",
    "\n",
    "# Step 1: Preliminary investigation\n",
    "\n",
    "Run the code cell below without changes."
   ]
  },
  {
   "cell_type": "code",
   "execution_count": 4,
   "id": "54890ad2",
   "metadata": {
    "execution": {
     "iopub.execute_input": "2023-04-26T08:23:09.556095Z",
     "iopub.status.busy": "2023-04-26T08:23:09.555600Z",
     "iopub.status.idle": "2023-04-26T08:23:09.566456Z",
     "shell.execute_reply": "2023-04-26T08:23:09.564802Z"
    },
    "papermill": {
     "duration": 0.024426,
     "end_time": "2023-04-26T08:23:09.569130",
     "exception": false,
     "start_time": "2023-04-26T08:23:09.544704",
     "status": "completed"
    },
    "tags": []
   },
   "outputs": [
    {
     "name": "stdout",
     "output_type": "stream",
     "text": [
      "(1168, 36)\n",
      "LotFrontage    212\n",
      "MasVnrArea       6\n",
      "GarageYrBlt     58\n",
      "dtype: int64\n"
     ]
    }
   ],
   "source": [
    "# Shape of training data (num_rows, num_columns)\n",
    "print(X_train.shape)\n",
    "\n",
    "# Number of missing values in each column of training data\n",
    "missing_val_count_by_column = (X_train.isnull().sum())\n",
    "print(missing_val_count_by_column[missing_val_count_by_column > 0])"
   ]
  },
  {
   "cell_type": "markdown",
   "id": "4b1c2d67",
   "metadata": {
    "papermill": {
     "duration": 0.0089,
     "end_time": "2023-04-26T08:23:09.587390",
     "exception": false,
     "start_time": "2023-04-26T08:23:09.578490",
     "status": "completed"
    },
    "tags": []
   },
   "source": [
    "### Part A\n",
    "\n",
    "Use the above output to answer the questions below."
   ]
  },
  {
   "cell_type": "code",
   "execution_count": 5,
   "id": "7e42de82",
   "metadata": {
    "execution": {
     "iopub.execute_input": "2023-04-26T08:23:09.608545Z",
     "iopub.status.busy": "2023-04-26T08:23:09.608144Z",
     "iopub.status.idle": "2023-04-26T08:23:09.619098Z",
     "shell.execute_reply": "2023-04-26T08:23:09.617547Z"
    },
    "papermill": {
     "duration": 0.025432,
     "end_time": "2023-04-26T08:23:09.622119",
     "exception": false,
     "start_time": "2023-04-26T08:23:09.596687",
     "status": "completed"
    },
    "tags": []
   },
   "outputs": [
    {
     "data": {
      "application/javascript": [
       "parent.postMessage({\"jupyterEvent\": \"custom.exercise_interaction\", \"data\": {\"outcomeType\": 1, \"valueTowardsCompletion\": 1.0, \"interactionType\": 1, \"questionType\": 1, \"questionId\": \"1.1_InvestigateEquality\", \"learnToolsVersion\": \"0.3.4\", \"failureMessage\": \"\", \"exceptionClass\": \"\", \"trace\": \"\"}}, \"*\")"
      ],
      "text/plain": [
       "<IPython.core.display.Javascript object>"
      ]
     },
     "metadata": {},
     "output_type": "display_data"
    },
    {
     "data": {
      "text/markdown": [
       "<span style=\"color:#33cc33\">Correct</span>"
      ],
      "text/plain": [
       "Correct"
      ]
     },
     "metadata": {},
     "output_type": "display_data"
    }
   ],
   "source": [
    "# Fill in the line below: How many rows are in the training data?\n",
    "num_rows = 1168\n",
    "\n",
    "# Fill in the line below: How many columns in the training data\n",
    "# have missing values?\n",
    "num_cols_with_missing = 3\n",
    "\n",
    "# Fill in the line below: How many missing entries are contained in \n",
    "# all of the training data?\n",
    "tot_missing = 212+6+58\n",
    "\n",
    "# Check your answers\n",
    "step_1.a.check()"
   ]
  },
  {
   "cell_type": "code",
   "execution_count": 6,
   "id": "effb51f5",
   "metadata": {
    "execution": {
     "iopub.execute_input": "2023-04-26T08:23:09.643472Z",
     "iopub.status.busy": "2023-04-26T08:23:09.643052Z",
     "iopub.status.idle": "2023-04-26T08:23:09.647804Z",
     "shell.execute_reply": "2023-04-26T08:23:09.646675Z"
    },
    "papermill": {
     "duration": 0.018145,
     "end_time": "2023-04-26T08:23:09.650195",
     "exception": false,
     "start_time": "2023-04-26T08:23:09.632050",
     "status": "completed"
    },
    "tags": []
   },
   "outputs": [],
   "source": [
    "# Lines below will give you a hint or solution code\n",
    "#step_1.a.hint()\n",
    "#step_1.a.solution()"
   ]
  },
  {
   "cell_type": "markdown",
   "id": "9b5f0347",
   "metadata": {
    "papermill": {
     "duration": 0.009105,
     "end_time": "2023-04-26T08:23:09.668993",
     "exception": false,
     "start_time": "2023-04-26T08:23:09.659888",
     "status": "completed"
    },
    "tags": []
   },
   "source": [
    "### Part B\n",
    "Considering your answers above, what do you think is likely the best approach to dealing with the missing values?"
   ]
  },
  {
   "cell_type": "code",
   "execution_count": 7,
   "id": "395de38a",
   "metadata": {
    "execution": {
     "iopub.execute_input": "2023-04-26T08:23:09.690260Z",
     "iopub.status.busy": "2023-04-26T08:23:09.689796Z",
     "iopub.status.idle": "2023-04-26T08:23:09.699454Z",
     "shell.execute_reply": "2023-04-26T08:23:09.698065Z"
    },
    "papermill": {
     "duration": 0.023539,
     "end_time": "2023-04-26T08:23:09.702013",
     "exception": false,
     "start_time": "2023-04-26T08:23:09.678474",
     "status": "completed"
    },
    "tags": []
   },
   "outputs": [
    {
     "data": {
      "application/javascript": [
       "parent.postMessage({\"jupyterEvent\": \"custom.exercise_interaction\", \"data\": {\"outcomeType\": 1, \"valueTowardsCompletion\": 1.0, \"interactionType\": 1, \"questionType\": 4, \"questionId\": \"1.2_InvestigateThought\", \"learnToolsVersion\": \"0.3.4\", \"failureMessage\": \"\", \"exceptionClass\": \"\", \"trace\": \"\"}}, \"*\")"
      ],
      "text/plain": [
       "<IPython.core.display.Javascript object>"
      ]
     },
     "metadata": {},
     "output_type": "display_data"
    },
    {
     "data": {
      "text/markdown": [
       "<span style=\"color:#33cc33\">Correct:</span> \n",
       "\n",
       "Since there are relatively few missing entries in the data (the column with the greatest percentage of missing values is missing less than 20% of its entries), we can expect that dropping columns is unlikely to yield good results.  This is because we'd be throwing away a lot of valuable data, and so imputation will likely perform better."
      ],
      "text/plain": [
       "Correct: \n",
       "\n",
       "Since there are relatively few missing entries in the data (the column with the greatest percentage of missing values is missing less than 20% of its entries), we can expect that dropping columns is unlikely to yield good results.  This is because we'd be throwing away a lot of valuable data, and so imputation will likely perform better."
      ]
     },
     "metadata": {},
     "output_type": "display_data"
    }
   ],
   "source": [
    "# Check your answer (Run this code cell to receive credit!)\n",
    "step_1.b.check()"
   ]
  },
  {
   "cell_type": "code",
   "execution_count": 8,
   "id": "326dccd6",
   "metadata": {
    "execution": {
     "iopub.execute_input": "2023-04-26T08:23:09.724576Z",
     "iopub.status.busy": "2023-04-26T08:23:09.723201Z",
     "iopub.status.idle": "2023-04-26T08:23:09.729487Z",
     "shell.execute_reply": "2023-04-26T08:23:09.728080Z"
    },
    "papermill": {
     "duration": 0.020661,
     "end_time": "2023-04-26T08:23:09.732519",
     "exception": false,
     "start_time": "2023-04-26T08:23:09.711858",
     "status": "completed"
    },
    "tags": []
   },
   "outputs": [],
   "source": [
    "#step_1.b.hint()"
   ]
  },
  {
   "cell_type": "markdown",
   "id": "2b05c1b9",
   "metadata": {
    "papermill": {
     "duration": 0.009831,
     "end_time": "2023-04-26T08:23:09.752829",
     "exception": false,
     "start_time": "2023-04-26T08:23:09.742998",
     "status": "completed"
    },
    "tags": []
   },
   "source": [
    "To compare different approaches to dealing with missing values, you'll use the same `score_dataset()` function from the tutorial.  This function reports the [mean absolute error](https://en.wikipedia.org/wiki/Mean_absolute_error) (MAE) from a random forest model."
   ]
  },
  {
   "cell_type": "code",
   "execution_count": 9,
   "id": "a57bc4d1",
   "metadata": {
    "execution": {
     "iopub.execute_input": "2023-04-26T08:23:09.775034Z",
     "iopub.status.busy": "2023-04-26T08:23:09.774569Z",
     "iopub.status.idle": "2023-04-26T08:23:10.151413Z",
     "shell.execute_reply": "2023-04-26T08:23:10.150079Z"
    },
    "papermill": {
     "duration": 0.391362,
     "end_time": "2023-04-26T08:23:10.154428",
     "exception": false,
     "start_time": "2023-04-26T08:23:09.763066",
     "status": "completed"
    },
    "tags": []
   },
   "outputs": [],
   "source": [
    "from sklearn.ensemble import RandomForestRegressor\n",
    "from sklearn.metrics import mean_absolute_error\n",
    "\n",
    "# Function for comparing different approaches\n",
    "def score_dataset(X_train, X_valid, y_train, y_valid):\n",
    "    model = RandomForestRegressor(n_estimators=100, random_state=0)\n",
    "    model.fit(X_train, y_train)\n",
    "    preds = model.predict(X_valid)\n",
    "    return mean_absolute_error(y_valid, preds)"
   ]
  },
  {
   "cell_type": "markdown",
   "id": "e7b9d976",
   "metadata": {
    "papermill": {
     "duration": 0.00953,
     "end_time": "2023-04-26T08:23:10.173958",
     "exception": false,
     "start_time": "2023-04-26T08:23:10.164428",
     "status": "completed"
    },
    "tags": []
   },
   "source": [
    "# Step 2: Drop columns with missing values\n",
    "\n",
    "In this step, you'll preprocess the data in `X_train` and `X_valid` to remove columns with missing values.  Set the preprocessed DataFrames to `reduced_X_train` and `reduced_X_valid`, respectively.  "
   ]
  },
  {
   "cell_type": "code",
   "execution_count": 10,
   "id": "d1989c4c",
   "metadata": {
    "execution": {
     "iopub.execute_input": "2023-04-26T08:23:10.196008Z",
     "iopub.status.busy": "2023-04-26T08:23:10.195554Z",
     "iopub.status.idle": "2023-04-26T08:23:10.233590Z",
     "shell.execute_reply": "2023-04-26T08:23:10.232316Z"
    },
    "papermill": {
     "duration": 0.052661,
     "end_time": "2023-04-26T08:23:10.236815",
     "exception": false,
     "start_time": "2023-04-26T08:23:10.184154",
     "status": "completed"
    },
    "tags": []
   },
   "outputs": [
    {
     "data": {
      "application/javascript": [
       "parent.postMessage({\"jupyterEvent\": \"custom.exercise_interaction\", \"data\": {\"outcomeType\": 1, \"valueTowardsCompletion\": 1.0, \"interactionType\": 1, \"questionType\": 2, \"questionId\": \"2_DropMissing\", \"learnToolsVersion\": \"0.3.4\", \"failureMessage\": \"\", \"exceptionClass\": \"\", \"trace\": \"\"}}, \"*\")"
      ],
      "text/plain": [
       "<IPython.core.display.Javascript object>"
      ]
     },
     "metadata": {},
     "output_type": "display_data"
    },
    {
     "data": {
      "text/markdown": [
       "<span style=\"color:#33cc33\">Correct</span>"
      ],
      "text/plain": [
       "Correct"
      ]
     },
     "metadata": {},
     "output_type": "display_data"
    }
   ],
   "source": [
    "# Fill in the line below: get names of columns with missing values\n",
    "missing = [col for col in X_train.columns\n",
    "                     if X_train[col].isnull().any()] # Your code here\n",
    "\n",
    "# Fill in the lines below: drop columns in training and validation data\n",
    "reduced_X_train = X_train.drop(missing, axis=1)\n",
    "reduced_X_valid = X_valid.drop(missing, axis=1)\n",
    "\n",
    "# Check your answers\n",
    "step_2.check()"
   ]
  },
  {
   "cell_type": "code",
   "execution_count": 11,
   "id": "70d5c95c",
   "metadata": {
    "execution": {
     "iopub.execute_input": "2023-04-26T08:23:10.259696Z",
     "iopub.status.busy": "2023-04-26T08:23:10.258877Z",
     "iopub.status.idle": "2023-04-26T08:23:10.264625Z",
     "shell.execute_reply": "2023-04-26T08:23:10.263217Z"
    },
    "papermill": {
     "duration": 0.020365,
     "end_time": "2023-04-26T08:23:10.267568",
     "exception": false,
     "start_time": "2023-04-26T08:23:10.247203",
     "status": "completed"
    },
    "tags": []
   },
   "outputs": [],
   "source": [
    "# Lines below will give you a hint or solution code\n",
    "#step_2.hint()\n",
    "#step_2.solution()"
   ]
  },
  {
   "cell_type": "markdown",
   "id": "ebbc85a2",
   "metadata": {
    "papermill": {
     "duration": 0.010255,
     "end_time": "2023-04-26T08:23:10.288082",
     "exception": false,
     "start_time": "2023-04-26T08:23:10.277827",
     "status": "completed"
    },
    "tags": []
   },
   "source": [
    "Run the next code cell without changes to obtain the MAE for this approach."
   ]
  },
  {
   "cell_type": "code",
   "execution_count": 12,
   "id": "3a703aa9",
   "metadata": {
    "execution": {
     "iopub.execute_input": "2023-04-26T08:23:10.311406Z",
     "iopub.status.busy": "2023-04-26T08:23:10.310951Z",
     "iopub.status.idle": "2023-04-26T08:23:11.449007Z",
     "shell.execute_reply": "2023-04-26T08:23:11.447506Z"
    },
    "papermill": {
     "duration": 1.153672,
     "end_time": "2023-04-26T08:23:11.452668",
     "exception": false,
     "start_time": "2023-04-26T08:23:10.298996",
     "status": "completed"
    },
    "tags": []
   },
   "outputs": [
    {
     "name": "stdout",
     "output_type": "stream",
     "text": [
      "MAE (Drop columns with missing values):\n",
      "17837.82570776256\n"
     ]
    }
   ],
   "source": [
    "print(\"MAE (Drop columns with missing values):\")\n",
    "print(score_dataset(reduced_X_train, reduced_X_valid, y_train, y_valid))"
   ]
  },
  {
   "cell_type": "markdown",
   "id": "38eeeb40",
   "metadata": {
    "papermill": {
     "duration": 0.009783,
     "end_time": "2023-04-26T08:23:11.472599",
     "exception": false,
     "start_time": "2023-04-26T08:23:11.462816",
     "status": "completed"
    },
    "tags": []
   },
   "source": [
    "# Step 3: Imputation\n",
    "\n",
    "### Part A\n",
    "\n",
    "Use the next code cell to impute missing values with the mean value along each column.  Set the preprocessed DataFrames to `imputed_X_train` and `imputed_X_valid`.  Make sure that the column names match those in `X_train` and `X_valid`."
   ]
  },
  {
   "cell_type": "code",
   "execution_count": 13,
   "id": "7a7ac0a5",
   "metadata": {
    "execution": {
     "iopub.execute_input": "2023-04-26T08:23:11.496038Z",
     "iopub.status.busy": "2023-04-26T08:23:11.495099Z",
     "iopub.status.idle": "2023-04-26T08:23:11.539078Z",
     "shell.execute_reply": "2023-04-26T08:23:11.537711Z"
    },
    "papermill": {
     "duration": 0.059173,
     "end_time": "2023-04-26T08:23:11.541930",
     "exception": false,
     "start_time": "2023-04-26T08:23:11.482757",
     "status": "completed"
    },
    "tags": []
   },
   "outputs": [
    {
     "data": {
      "application/javascript": [
       "parent.postMessage({\"jupyterEvent\": \"custom.exercise_interaction\", \"data\": {\"outcomeType\": 1, \"valueTowardsCompletion\": 1.0, \"interactionType\": 1, \"questionType\": 2, \"questionId\": \"3.1_ImputeCode\", \"learnToolsVersion\": \"0.3.4\", \"failureMessage\": \"\", \"exceptionClass\": \"\", \"trace\": \"\"}}, \"*\")"
      ],
      "text/plain": [
       "<IPython.core.display.Javascript object>"
      ]
     },
     "metadata": {},
     "output_type": "display_data"
    },
    {
     "data": {
      "text/markdown": [
       "<span style=\"color:#33cc33\">Correct</span>"
      ],
      "text/plain": [
       "Correct"
      ]
     },
     "metadata": {},
     "output_type": "display_data"
    }
   ],
   "source": [
    "from sklearn.impute import SimpleImputer\n",
    "\n",
    "# Fill in the lines below: imputation\n",
    "my_imputer = SimpleImputer() # Your code here\n",
    "imputed_X_train = pd.DataFrame(my_imputer.fit_transform(X_train))\n",
    "imputed_X_valid = pd.DataFrame(my_imputer.transform(X_valid))\n",
    "\n",
    "# Fill in the lines below: imputation removed column names; put them back\n",
    "imputed_X_train.columns = X_train.columns\n",
    "imputed_X_valid.columns = X_valid.columns\n",
    "\n",
    "# Check your answers\n",
    "step_3.a.check()"
   ]
  },
  {
   "cell_type": "code",
   "execution_count": 14,
   "id": "eaafb07e",
   "metadata": {
    "execution": {
     "iopub.execute_input": "2023-04-26T08:23:11.565640Z",
     "iopub.status.busy": "2023-04-26T08:23:11.564639Z",
     "iopub.status.idle": "2023-04-26T08:23:11.570040Z",
     "shell.execute_reply": "2023-04-26T08:23:11.569102Z"
    },
    "papermill": {
     "duration": 0.020288,
     "end_time": "2023-04-26T08:23:11.572692",
     "exception": false,
     "start_time": "2023-04-26T08:23:11.552404",
     "status": "completed"
    },
    "tags": []
   },
   "outputs": [],
   "source": [
    "# Lines below will give you a hint or solution code\n",
    "#step_3.a.hint()\n",
    "#step_3.a.solution()"
   ]
  },
  {
   "cell_type": "markdown",
   "id": "81780d29",
   "metadata": {
    "papermill": {
     "duration": 0.010595,
     "end_time": "2023-04-26T08:23:11.593812",
     "exception": false,
     "start_time": "2023-04-26T08:23:11.583217",
     "status": "completed"
    },
    "tags": []
   },
   "source": [
    "Run the next code cell without changes to obtain the MAE for this approach."
   ]
  },
  {
   "cell_type": "code",
   "execution_count": 15,
   "id": "560ea4fc",
   "metadata": {
    "execution": {
     "iopub.execute_input": "2023-04-26T08:23:11.618311Z",
     "iopub.status.busy": "2023-04-26T08:23:11.617507Z",
     "iopub.status.idle": "2023-04-26T08:23:12.871335Z",
     "shell.execute_reply": "2023-04-26T08:23:12.869894Z"
    },
    "papermill": {
     "duration": 1.269429,
     "end_time": "2023-04-26T08:23:12.873848",
     "exception": false,
     "start_time": "2023-04-26T08:23:11.604419",
     "status": "completed"
    },
    "tags": []
   },
   "outputs": [
    {
     "name": "stdout",
     "output_type": "stream",
     "text": [
      "MAE (Imputation):\n",
      "18062.894611872147\n"
     ]
    }
   ],
   "source": [
    "print(\"MAE (Imputation):\")\n",
    "print(score_dataset(imputed_X_train, imputed_X_valid, y_train, y_valid))"
   ]
  },
  {
   "cell_type": "markdown",
   "id": "31b0ba5f",
   "metadata": {
    "papermill": {
     "duration": 0.010674,
     "end_time": "2023-04-26T08:23:12.895092",
     "exception": false,
     "start_time": "2023-04-26T08:23:12.884418",
     "status": "completed"
    },
    "tags": []
   },
   "source": [
    "### Part B\n",
    "\n",
    "Compare the MAE from each approach.  Does anything surprise you about the results?  Why do you think one approach performed better than the other?"
   ]
  },
  {
   "cell_type": "code",
   "execution_count": 16,
   "id": "8a8f4e79",
   "metadata": {
    "execution": {
     "iopub.execute_input": "2023-04-26T08:23:12.918664Z",
     "iopub.status.busy": "2023-04-26T08:23:12.917907Z",
     "iopub.status.idle": "2023-04-26T08:23:12.927915Z",
     "shell.execute_reply": "2023-04-26T08:23:12.926834Z"
    },
    "papermill": {
     "duration": 0.024714,
     "end_time": "2023-04-26T08:23:12.930460",
     "exception": false,
     "start_time": "2023-04-26T08:23:12.905746",
     "status": "completed"
    },
    "tags": []
   },
   "outputs": [
    {
     "data": {
      "application/javascript": [
       "parent.postMessage({\"jupyterEvent\": \"custom.exercise_interaction\", \"data\": {\"outcomeType\": 1, \"valueTowardsCompletion\": 1.0, \"interactionType\": 1, \"questionType\": 4, \"questionId\": \"3.2_ImputeThought\", \"learnToolsVersion\": \"0.3.4\", \"failureMessage\": \"\", \"exceptionClass\": \"\", \"trace\": \"\"}}, \"*\")"
      ],
      "text/plain": [
       "<IPython.core.display.Javascript object>"
      ]
     },
     "metadata": {},
     "output_type": "display_data"
    },
    {
     "data": {
      "text/markdown": [
       "<span style=\"color:#33cc33\">Correct:</span> \n",
       "\n",
       "Given that thre are so few missing values in the dataset, we'd expect imputation to perform better than dropping columns entirely.  However, we see that dropping columns performs slightly better!  While this can probably partially be attributed to noise in the dataset, another potential explanation is that the imputation method is not a great match to this dataset.  That is, maybe instead of filling in the mean value, it makes more sense to set every missing value to a value of 0, to fill in the most frequently encountered value, or to use some other method.  For instance, consider the `GarageYrBlt` column (which indicates the year that the garage was built).  It's likely that in some cases, a missing value could indicate a house that does not have a garage.  Does it make more sense to fill in the median value along each column in this case?  Or could we get better results by filling in the minimum value along each column?  It's not quite clear what's best in this case, but perhaps we can rule out some options immediately - for instance, setting missing values in this column to 0 is likely to yield horrible results!"
      ],
      "text/plain": [
       "Correct: \n",
       "\n",
       "Given that thre are so few missing values in the dataset, we'd expect imputation to perform better than dropping columns entirely.  However, we see that dropping columns performs slightly better!  While this can probably partially be attributed to noise in the dataset, another potential explanation is that the imputation method is not a great match to this dataset.  That is, maybe instead of filling in the mean value, it makes more sense to set every missing value to a value of 0, to fill in the most frequently encountered value, or to use some other method.  For instance, consider the `GarageYrBlt` column (which indicates the year that the garage was built).  It's likely that in some cases, a missing value could indicate a house that does not have a garage.  Does it make more sense to fill in the median value along each column in this case?  Or could we get better results by filling in the minimum value along each column?  It's not quite clear what's best in this case, but perhaps we can rule out some options immediately - for instance, setting missing values in this column to 0 is likely to yield horrible results!"
      ]
     },
     "metadata": {},
     "output_type": "display_data"
    }
   ],
   "source": [
    "# Check your answer (Run this code cell to receive credit!)\n",
    "step_3.b.check()"
   ]
  },
  {
   "cell_type": "code",
   "execution_count": 17,
   "id": "4ef55383",
   "metadata": {
    "execution": {
     "iopub.execute_input": "2023-04-26T08:23:12.954667Z",
     "iopub.status.busy": "2023-04-26T08:23:12.953928Z",
     "iopub.status.idle": "2023-04-26T08:23:12.959050Z",
     "shell.execute_reply": "2023-04-26T08:23:12.958030Z"
    },
    "papermill": {
     "duration": 0.020197,
     "end_time": "2023-04-26T08:23:12.961570",
     "exception": false,
     "start_time": "2023-04-26T08:23:12.941373",
     "status": "completed"
    },
    "tags": []
   },
   "outputs": [],
   "source": [
    "#step_3.b.hint()"
   ]
  },
  {
   "cell_type": "markdown",
   "id": "098f278c",
   "metadata": {
    "papermill": {
     "duration": 0.010802,
     "end_time": "2023-04-26T08:23:12.983375",
     "exception": false,
     "start_time": "2023-04-26T08:23:12.972573",
     "status": "completed"
    },
    "tags": []
   },
   "source": [
    "# Step 4: Generate test predictions\n",
    "\n",
    "In this final step, you'll use any approach of your choosing to deal with missing values.  Once you've preprocessed the training and validation features, you'll train and evaluate a random forest model.  Then, you'll preprocess the test data before generating predictions that can be submitted to the competition!\n",
    "\n",
    "### Part A\n",
    "\n",
    "Use the next code cell to preprocess the training and validation data.  Set the preprocessed DataFrames to `final_X_train` and `final_X_valid`.  **You can use any approach of your choosing here!**  in order for this step to be marked as correct, you need only ensure:\n",
    "- the preprocessed DataFrames have the same number of columns,\n",
    "- the preprocessed DataFrames have no missing values, \n",
    "- `final_X_train` and `y_train` have the same number of rows, and\n",
    "- `final_X_valid` and `y_valid` have the same number of rows."
   ]
  },
  {
   "cell_type": "code",
   "execution_count": 18,
   "id": "dc350a7d",
   "metadata": {
    "execution": {
     "iopub.execute_input": "2023-04-26T08:23:13.007686Z",
     "iopub.status.busy": "2023-04-26T08:23:13.006923Z",
     "iopub.status.idle": "2023-04-26T08:23:13.030868Z",
     "shell.execute_reply": "2023-04-26T08:23:13.029543Z"
    },
    "papermill": {
     "duration": 0.03906,
     "end_time": "2023-04-26T08:23:13.033510",
     "exception": false,
     "start_time": "2023-04-26T08:23:12.994450",
     "status": "completed"
    },
    "tags": []
   },
   "outputs": [
    {
     "data": {
      "application/javascript": [
       "parent.postMessage({\"jupyterEvent\": \"custom.exercise_interaction\", \"data\": {\"outcomeType\": 1, \"valueTowardsCompletion\": 1.0, \"interactionType\": 1, \"questionType\": 2, \"questionId\": \"4.1_PredsCodeA\", \"learnToolsVersion\": \"0.3.4\", \"failureMessage\": \"\", \"exceptionClass\": \"\", \"trace\": \"\"}}, \"*\")"
      ],
      "text/plain": [
       "<IPython.core.display.Javascript object>"
      ]
     },
     "metadata": {},
     "output_type": "display_data"
    },
    {
     "data": {
      "text/markdown": [
       "<span style=\"color:#33cc33\">Correct</span>"
      ],
      "text/plain": [
       "Correct"
      ]
     },
     "metadata": {},
     "output_type": "display_data"
    }
   ],
   "source": [
    "# Preprocessed training and validation features\n",
    "final_X_train = X_train.fillna(0)\n",
    "final_X_valid = X_valid.fillna(0)\n",
    "\n",
    "# Check your answers\n",
    "step_4.a.check()"
   ]
  },
  {
   "cell_type": "code",
   "execution_count": 19,
   "id": "62b486da",
   "metadata": {
    "execution": {
     "iopub.execute_input": "2023-04-26T08:23:13.059284Z",
     "iopub.status.busy": "2023-04-26T08:23:13.058456Z",
     "iopub.status.idle": "2023-04-26T08:23:13.063644Z",
     "shell.execute_reply": "2023-04-26T08:23:13.062598Z"
    },
    "papermill": {
     "duration": 0.021387,
     "end_time": "2023-04-26T08:23:13.066345",
     "exception": false,
     "start_time": "2023-04-26T08:23:13.044958",
     "status": "completed"
    },
    "tags": []
   },
   "outputs": [],
   "source": [
    "# Lines below will give you a hint or solution code\n",
    "#step_4.a.hint()\n",
    "#step_4.a.solution()"
   ]
  },
  {
   "cell_type": "markdown",
   "id": "21c2b4f5",
   "metadata": {
    "papermill": {
     "duration": 0.011714,
     "end_time": "2023-04-26T08:23:13.089459",
     "exception": false,
     "start_time": "2023-04-26T08:23:13.077745",
     "status": "completed"
    },
    "tags": []
   },
   "source": [
    "Run the next code cell to train and evaluate a random forest model.  (*Note that we don't use the `score_dataset()` function above, because we will soon use the trained model to generate test predictions!*)"
   ]
  },
  {
   "cell_type": "code",
   "execution_count": 20,
   "id": "16f957ba",
   "metadata": {
    "execution": {
     "iopub.execute_input": "2023-04-26T08:23:13.114586Z",
     "iopub.status.busy": "2023-04-26T08:23:13.114154Z",
     "iopub.status.idle": "2023-04-26T08:23:14.361747Z",
     "shell.execute_reply": "2023-04-26T08:23:14.360175Z"
    },
    "papermill": {
     "duration": 1.263591,
     "end_time": "2023-04-26T08:23:14.364864",
     "exception": false,
     "start_time": "2023-04-26T08:23:13.101273",
     "status": "completed"
    },
    "tags": []
   },
   "outputs": [
    {
     "name": "stdout",
     "output_type": "stream",
     "text": [
      "MAE (Your approach):\n",
      "18017.665970319635\n"
     ]
    }
   ],
   "source": [
    "# Define and fit model\n",
    "model = RandomForestRegressor(n_estimators=100, random_state=0)\n",
    "model.fit(final_X_train, y_train)\n",
    "\n",
    "# Get validation predictions and MAE\n",
    "preds_valid = model.predict(final_X_valid)\n",
    "print(\"MAE (Your approach):\")\n",
    "print(mean_absolute_error(y_valid, preds_valid))"
   ]
  },
  {
   "cell_type": "markdown",
   "id": "81897fb7",
   "metadata": {
    "papermill": {
     "duration": 0.010949,
     "end_time": "2023-04-26T08:23:14.387394",
     "exception": false,
     "start_time": "2023-04-26T08:23:14.376445",
     "status": "completed"
    },
    "tags": []
   },
   "source": [
    "### Part B\n",
    "\n",
    "Use the next code cell to preprocess your test data.  Make sure that you use a method that agrees with how you preprocessed the training and validation data, and set the preprocessed test features to `final_X_test`.\n",
    "\n",
    "Then, use the preprocessed test features and the trained model to generate test predictions in `preds_test`.\n",
    "\n",
    "In order for this step to be marked correct, you need only ensure:\n",
    "- the preprocessed test DataFrame has no missing values, and\n",
    "- `final_X_test` has the same number of rows as `X_test`."
   ]
  },
  {
   "cell_type": "code",
   "execution_count": 21,
   "id": "f89e3964",
   "metadata": {
    "execution": {
     "iopub.execute_input": "2023-04-26T08:23:14.412385Z",
     "iopub.status.busy": "2023-04-26T08:23:14.411255Z",
     "iopub.status.idle": "2023-04-26T08:23:14.461372Z",
     "shell.execute_reply": "2023-04-26T08:23:14.460075Z"
    },
    "papermill": {
     "duration": 0.06539,
     "end_time": "2023-04-26T08:23:14.464094",
     "exception": false,
     "start_time": "2023-04-26T08:23:14.398704",
     "status": "completed"
    },
    "tags": []
   },
   "outputs": [
    {
     "data": {
      "application/javascript": [
       "parent.postMessage({\"jupyterEvent\": \"custom.exercise_interaction\", \"data\": {\"outcomeType\": 1, \"valueTowardsCompletion\": 1.0, \"interactionType\": 1, \"questionType\": 2, \"questionId\": \"4.2_PredsCodeB\", \"learnToolsVersion\": \"0.3.4\", \"failureMessage\": \"\", \"exceptionClass\": \"\", \"trace\": \"\"}}, \"*\")"
      ],
      "text/plain": [
       "<IPython.core.display.Javascript object>"
      ]
     },
     "metadata": {},
     "output_type": "display_data"
    },
    {
     "data": {
      "text/markdown": [
       "<span style=\"color:#33cc33\">Correct</span>"
      ],
      "text/plain": [
       "Correct"
      ]
     },
     "metadata": {},
     "output_type": "display_data"
    }
   ],
   "source": [
    "# Fill in the line below: preprocess test data\n",
    "final_X_test = X_test.fillna(0)\n",
    "\n",
    "# Fill in the line below: get test predictions\n",
    "preds_test = model.predict(final_X_test)\n",
    "\n",
    "# Check your answers\n",
    "step_4.b.check()"
   ]
  },
  {
   "cell_type": "code",
   "execution_count": 22,
   "id": "56ef1d67",
   "metadata": {
    "execution": {
     "iopub.execute_input": "2023-04-26T08:23:14.490087Z",
     "iopub.status.busy": "2023-04-26T08:23:14.488845Z",
     "iopub.status.idle": "2023-04-26T08:23:14.493673Z",
     "shell.execute_reply": "2023-04-26T08:23:14.492680Z"
    },
    "papermill": {
     "duration": 0.02049,
     "end_time": "2023-04-26T08:23:14.496238",
     "exception": false,
     "start_time": "2023-04-26T08:23:14.475748",
     "status": "completed"
    },
    "tags": []
   },
   "outputs": [],
   "source": [
    "# Lines below will give you a hint or solution code\n",
    "#step_4.b.hint()\n",
    "#step_4.b.solution()"
   ]
  },
  {
   "cell_type": "markdown",
   "id": "99c984f5",
   "metadata": {
    "papermill": {
     "duration": 0.011413,
     "end_time": "2023-04-26T08:23:14.519603",
     "exception": false,
     "start_time": "2023-04-26T08:23:14.508190",
     "status": "completed"
    },
    "tags": []
   },
   "source": [
    "Run the next code cell without changes to save your results to a CSV file that can be submitted directly to the competition."
   ]
  },
  {
   "cell_type": "code",
   "execution_count": 23,
   "id": "c6cc0f76",
   "metadata": {
    "execution": {
     "iopub.execute_input": "2023-04-26T08:23:14.545734Z",
     "iopub.status.busy": "2023-04-26T08:23:14.544448Z",
     "iopub.status.idle": "2023-04-26T08:23:14.559707Z",
     "shell.execute_reply": "2023-04-26T08:23:14.558441Z"
    },
    "papermill": {
     "duration": 0.03145,
     "end_time": "2023-04-26T08:23:14.562908",
     "exception": false,
     "start_time": "2023-04-26T08:23:14.531458",
     "status": "completed"
    },
    "tags": []
   },
   "outputs": [],
   "source": [
    "# Save test predictions to file\n",
    "output = pd.DataFrame({'Id': X_test.index,\n",
    "                       'SalePrice': preds_test})\n",
    "output.to_csv('submission.csv', index=False)"
   ]
  },
  {
   "cell_type": "markdown",
   "id": "8b7b83df",
   "metadata": {
    "papermill": {
     "duration": 0.011339,
     "end_time": "2023-04-26T08:23:14.586442",
     "exception": false,
     "start_time": "2023-04-26T08:23:14.575103",
     "status": "completed"
    },
    "tags": []
   },
   "source": [
    "# Submit your results\n",
    "\n",
    "Once you have successfully completed Step 4, you're ready to submit your results to the leaderboard!  (_You also learned how to do this in the previous exercise.  If you need a reminder of how to do this, please use the instructions below._)  \n",
    "\n",
    "First, you'll need to join the competition if you haven't already.  So open a new window by clicking on [this link](https://www.kaggle.com/c/home-data-for-ml-course).  Then click on the **Join Competition** button.\n",
    "\n",
    "![join competition image](https://storage.googleapis.com/kaggle-media/learn/images/wLmFtH3.png)\n",
    "\n",
    "Next, follow the instructions below:\n",
    "1. Begin by clicking on the **Save Version** button in the top right corner of the window.  This will generate a pop-up window.  \n",
    "2. Ensure that the **Save and Run All** option is selected, and then click on the **Save** button.\n",
    "3. This generates a window in the bottom left corner of the notebook.  After it has finished running, click on the number to the right of the **Save Version** button.  This pulls up a list of versions on the right of the screen.  Click on the ellipsis **(...)** to the right of the most recent version, and select **Open in Viewer**.  This brings you into view mode of the same page. You will need to scroll down to get back to these instructions.\n",
    "4. Click on the **Data** tab near the top of the screen.  Then, click on the file you would like to submit, and click on the **Submit** button to submit your results to the leaderboard.\n",
    "\n",
    "You have now successfully submitted to the competition!\n",
    "\n",
    "If you want to keep working to improve your performance, select the **Edit** button in the top right of the screen. Then you can change your code and repeat the process. There's a lot of room to improve, and you will climb up the leaderboard as you work.\n",
    "\n",
    "\n",
    "# Keep going\n",
    "\n",
    "Move on to learn what **[categorical variables](https://www.kaggle.com/alexisbcook/categorical-variables)** are, along with how to incorporate them into your machine learning models.  Categorical variables are very common in real-world data, but you'll get an error if you try to plug them into your models without processing them first!"
   ]
  },
  {
   "cell_type": "markdown",
   "id": "20a66993",
   "metadata": {
    "papermill": {
     "duration": 0.011215,
     "end_time": "2023-04-26T08:23:14.609326",
     "exception": false,
     "start_time": "2023-04-26T08:23:14.598111",
     "status": "completed"
    },
    "tags": []
   },
   "source": [
    "---\n",
    "\n",
    "\n",
    "\n",
    "\n",
    "*Have questions or comments? Visit the [course discussion forum](https://www.kaggle.com/learn/intermediate-machine-learning/discussion) to chat with other learners.*"
   ]
  }
 ],
 "metadata": {
  "kernelspec": {
   "display_name": "Python 3",
   "language": "python",
   "name": "python3"
  },
  "language_info": {
   "codemirror_mode": {
    "name": "ipython",
    "version": 3
   },
   "file_extension": ".py",
   "mimetype": "text/x-python",
   "name": "python",
   "nbconvert_exporter": "python",
   "pygments_lexer": "ipython3",
   "version": "3.7.12"
  },
  "papermill": {
   "default_parameters": {},
   "duration": 18.629068,
   "end_time": "2023-04-26T08:23:15.444894",
   "environment_variables": {},
   "exception": null,
   "input_path": "__notebook__.ipynb",
   "output_path": "__notebook__.ipynb",
   "parameters": {},
   "start_time": "2023-04-26T08:22:56.815826",
   "version": "2.4.0"
  }
 },
 "nbformat": 4,
 "nbformat_minor": 5
}
